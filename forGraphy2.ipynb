{
 "cells": [
  {
   "cell_type": "code",
   "execution_count": 77,
   "metadata": {},
   "outputs": [],
   "source": [
    "from pymongo import MongoClient\n",
    "import pandas as pd \n",
    "import matplotlib.pyplot as plt\n",
    "from collections import Counter\n",
    "import plotly\n",
    "import plotly.graph_objects as go"
   ]
  },
  {
   "cell_type": "code",
   "execution_count": 78,
   "metadata": {},
   "outputs": [],
   "source": [
    "\n",
    "client = MongoClient(\"localhost\", 27017)\n",
    "gobDb = client[\"GoBDB\"]\n",
    "jobCollection = gobDb[\"Jobs\"]\n",
    "\n",
    "features = jobCollection.aggregate([\n",
    "    {\n",
    "        '$project': {\n",
    "            'category': '$attributes.category_name',\n",
    "            'title': '$attributes.title',\n",
    "            'tags': '$attributes.tags.data',\n",
    "            'seniority': '$attributes.seniority.data.attributes.name'\n",
    "        }\n",
    "    }\n",
    "])\n",
    "\n",
    "list_features=[*features]\n",
    "df=pd.DataFrame(list_features)"
   ]
  },
  {
   "cell_type": "code",
   "execution_count": null,
   "metadata": {},
   "outputs": [],
   "source": [
    "df.head()"
   ]
  },
  {
   "cell_type": "code",
   "execution_count": null,
   "metadata": {},
   "outputs": [],
   "source": [
    "def graph_bar(df,nombres_features='category'):\n",
    "    import pandas as pd \n",
    "    import plotly\n",
    "    import plotly.graph_objects as go\n",
    "\n",
    "    num_in_category=df[nombres_features].value_counts()[:10]\n",
    "    \n",
    "    data=[go.Bar(\n",
    "        x=num_in_category.index,\n",
    "        y=num_in_category.values\n",
    "    )]\n",
    "    text_div=plotly.offline.plot(\n",
    "        {'data':data,'layout':go.Layout(xaxis_tickangle=-45)},\n",
    "\n",
    "    )\n",
    "    return text_div"
   ]
  },
  {
   "cell_type": "code",
   "execution_count": 84,
   "metadata": {},
   "outputs": [],
   "source": [
    "def graph_pie(df,nombres_features='seniority'):\n",
    "    import plotly\n",
    "    import plotly.graph_objects as go\n",
    "\n",
    "    num_in_features=df[nombres_features].value_counts()[:10]\n",
    "    \n",
    "    data=[go.Pie(\n",
    "        labels = num_in_features.index,\n",
    "        values =num_in_features.values, textinfo='label+percent',\n",
    "                insidetextorientation='radial'\n",
    "    )]\n",
    "\n",
    "    text_div=plotly.offline.plot(\n",
    "        {'data':data}, include_plotlyjs=False, output_type='div'\n",
    "    )\n",
    "    return text_div"
   ]
  },
  {
   "cell_type": "code",
   "execution_count": 90,
   "metadata": {},
   "outputs": [],
   "source": [
    "def graph_pie2(df,name_category,nombres_features='seniority'):\n",
    "    import plotly\n",
    "    import plotly.graph_objects as go\n",
    "\n",
    "    num_in_features=df[nombres_features].value_counts()[:10]\n",
    "    elim=df['category'].value_counts()[-4:].index.tolist()\n",
    "    df_new=df[~df['category'].isin(elim)]\n",
    "    df_groupby=df_new.groupby(nombres_features).size()\n",
    "    count_seniority=df_groupby[name_category]\n",
    "    data=[go.Pie(\n",
    "        labels = count_seniority.index,\n",
    "        values =count_seniority.values, textinfo='label+percent',\n",
    "                insidetextorientation='radial'\n",
    "    )]\n",
    "\n",
    "    text_div=plotly.offline.plot(\n",
    "        {'data':data,'layout':go.Layout(title=f'Porcentaje de Seniority por {name_category}')},\n",
    "        include_plotlyjs=False, output_type='div'\n",
    "    )\n",
    "    return text_div"
   ]
  },
  {
   "cell_type": "code",
   "execution_count": 91,
   "metadata": {},
   "outputs": [
    {
     "data": {
      "text/plain": [
       "'temp-plot.html'"
      ]
     },
     "execution_count": 91,
     "metadata": {},
     "output_type": "execute_result"
    }
   ],
   "source": [
    "graph_pie2(df,'Programming',['category','seniority'])"
   ]
  },
  {
   "cell_type": "code",
   "execution_count": null,
   "metadata": {},
   "outputs": [],
   "source": [
    "df=pd.DataFrame(list_features)[['category']]"
   ]
  },
  {
   "cell_type": "code",
   "execution_count": null,
   "metadata": {},
   "outputs": [],
   "source": [
    "df.head()"
   ]
  },
  {
   "cell_type": "code",
   "execution_count": null,
   "metadata": {},
   "outputs": [],
   "source": [
    "num_in_category=df['category'].value_counts()[:10]\n",
    "num_in_category"
   ]
  },
  {
   "cell_type": "code",
   "execution_count": null,
   "metadata": {},
   "outputs": [],
   "source": [
    "data=[go.Bar(\n",
    "    x=num_in_category.index,\n",
    "    y=num_in_category.values\n",
    ")]\n",
    "\n",
    "fig = go.Figure(data)\n",
    "fig.show()"
   ]
  },
  {
   "cell_type": "code",
   "execution_count": null,
   "metadata": {},
   "outputs": [],
   "source": [
    "text_div=plotly.offline.plot(\n",
    "    {'data':data,'layout':go.Layout(xaxis_tickangle=-45)},\n",
    "\n",
    ")"
   ]
  },
  {
   "cell_type": "code",
   "execution_count": null,
   "metadata": {},
   "outputs": [],
   "source": [
    "df=pd.DataFrame(list_features)[['category','seniority']]\n",
    "df.head()"
   ]
  },
  {
   "cell_type": "code",
   "execution_count": null,
   "metadata": {},
   "outputs": [],
   "source": [
    "seniority_count=df['seniority'].value_counts()"
   ]
  },
  {
   "cell_type": "code",
   "execution_count": null,
   "metadata": {},
   "outputs": [],
   "source": [
    "labels = seniority_count.index\n",
    "values = seniority_count.values\n",
    "fig = go.Figure(data=[go.Pie(labels=labels, values=values, textinfo='label+percent',\n",
    "                             insidetextorientation='radial'\n",
    "                            )])\n",
    "fig.show()"
   ]
  },
  {
   "cell_type": "code",
   "execution_count": null,
   "metadata": {},
   "outputs": [],
   "source": [
    "data=[go.Pie(\n",
    "    labels = seniority_count.index,\n",
    "    values = seniority_count.values, textinfo='label+percent',\n",
    "            insidetextorientation='radial'\n",
    ")]\n",
    "\n",
    "text_div=plotly.offline.plot(\n",
    "    {'data':data}, include_plotlyjs=False, output_type='div'\n",
    ")"
   ]
  },
  {
   "cell_type": "code",
   "execution_count": null,
   "metadata": {},
   "outputs": [],
   "source": [
    "import plotly.graph_objects as go\n",
    "\n",
    "labels = ['Oxygen','Hydrogen','Carbon_Dioxide','Nitrogen']\n",
    "values = [4500, 2500, 1053, 500]\n",
    "\n",
    "fig = go.Figure(data=[go.Pie(labels=labels, values=values, textinfo='label+percent',\n",
    "                             insidetextorientation='radial'\n",
    "                            )])\n",
    "fig.show()"
   ]
  },
  {
   "cell_type": "code",
   "execution_count": null,
   "metadata": {},
   "outputs": [],
   "source": [
    "df=pd.DataFrame(list_features)[['category','seniority']]\n",
    "df.head()"
   ]
  },
  {
   "cell_type": "code",
   "execution_count": null,
   "metadata": {},
   "outputs": [],
   "source": [
    "elim=df['category'].value_counts()[-4:].index.tolist()"
   ]
  },
  {
   "cell_type": "code",
   "execution_count": null,
   "metadata": {},
   "outputs": [],
   "source": [
    "df_new=df[~df['category'].isin(elim)]"
   ]
  },
  {
   "cell_type": "code",
   "execution_count": null,
   "metadata": {},
   "outputs": [],
   "source": [
    "df_new"
   ]
  },
  {
   "cell_type": "code",
   "execution_count": null,
   "metadata": {},
   "outputs": [],
   "source": [
    "c=df_new.groupby(['category','seniority']).size()\n",
    "c"
   ]
  },
  {
   "cell_type": "code",
   "execution_count": null,
   "metadata": {},
   "outputs": [],
   "source": [
    "df_new['category'].unique()"
   ]
  },
  {
   "cell_type": "code",
   "execution_count": null,
   "metadata": {},
   "outputs": [],
   "source": [
    "c['Operations / Admin']"
   ]
  },
  {
   "cell_type": "code",
   "execution_count": null,
   "metadata": {},
   "outputs": [],
   "source": [
    "import plotly.graph_objects as go\n",
    "animals=['giraffes', 'orangutans', 'monkeys']\n",
    "\n",
    "fig = go.Figure(data=[\n",
    "    go.Bar(name='SF Zoo', x=animals, y=[20, 14, 23]),\n",
    "    go.Bar(name='LA Zoo', x=animals, y=[12, 18, 29])\n",
    "])\n",
    "# Change the bar mode\n",
    "fig.update_layout(barmode='group')\n",
    "fig.show()"
   ]
  },
  {
   "cell_type": "code",
   "execution_count": null,
   "metadata": {},
   "outputs": [],
   "source": [
    "df.value_counts()"
   ]
  },
  {
   "cell_type": "code",
   "execution_count": null,
   "metadata": {},
   "outputs": [],
   "source": []
  },
  {
   "cell_type": "code",
   "execution_count": null,
   "metadata": {},
   "outputs": [],
   "source": []
  }
 ],
 "metadata": {
  "interpreter": {
   "hash": "9ce43836c8d3287a06e199a1efd6974587c1d8c7cdf961feda0708cd09e2869c"
  },
  "kernelspec": {
   "display_name": "Python 3.8.5 64-bit",
   "language": "python",
   "name": "python3"
  },
  "language_info": {
   "codemirror_mode": {
    "name": "ipython",
    "version": 3
   },
   "file_extension": ".py",
   "mimetype": "text/x-python",
   "name": "python",
   "nbconvert_exporter": "python",
   "pygments_lexer": "ipython3",
   "version": "3.8.5"
  },
  "orig_nbformat": 4
 },
 "nbformat": 4,
 "nbformat_minor": 2
}
