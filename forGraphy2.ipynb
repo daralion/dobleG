{
 "cells": [
  {
   "cell_type": "code",
   "execution_count": 77,
   "metadata": {},
   "outputs": [],
   "source": [
    "from pymongo import MongoClient\n",
    "import pandas as pd \n",
    "import matplotlib.pyplot as plt\n",
    "from collections import Counter\n",
    "import plotly\n",
    "import plotly.graph_objects as go"
   ]
  },
  {
   "cell_type": "code",
   "execution_count": 78,
   "metadata": {},
   "outputs": [],
   "source": [
    "\n",
    "client = MongoClient(\"localhost\", 27017)\n",
    "gobDb = client[\"GoBDB\"]\n",
    "jobCollection = gobDb[\"Jobs\"]\n",
    "\n",
    "features = jobCollection.aggregate([\n",
    "    {\n",
    "        '$project': {\n",
    "            'category': '$attributes.category_name',\n",
    "            'title': '$attributes.title',\n",
    "            'tags': '$attributes.tags.data',\n",
    "            'seniority': '$attributes.seniority.data.attributes.name'\n",
    "        }\n",
    "    }\n",
    "])\n",
    "\n",
    "list_features=[*features]\n",
    "df=pd.DataFrame(list_features)"
   ]
  },
  {
   "cell_type": "code",
   "execution_count": 134,
   "metadata": {},
   "outputs": [],
   "source": [
    "def data_manipulation(list_features,name_category):\n",
    "    from collections import Counter\n",
    "    #Creamos un diccionario con las categorias como llave y una lista vacia como valor\n",
    "    dict_new={}\n",
    "    for category in list_features:\n",
    "        dict_new[category['category']]=[]\n",
    "\n",
    "    #Llenamos las listas vacias con los tags que pertenecen a cada categoria\n",
    "    for category in list_features:\n",
    "        dict_new[category['category']]+=[info['attributes']['name'] for info in category['tags']]\n",
    "\n",
    "    #Esto hara un recuento de los tags para una categoria en especifico\n",
    "    dict_count_tags=dict(Counter(dict_new[name_category]))\n",
    "\n",
    "    #Creacion del dataframe con los recuentos de los tags\n",
    "    df_tags=pd.DataFrame([dict_count_tags], index=['Count']).transpose()\n",
    "    return df_tags"
   ]
  },
  {
   "cell_type": "code",
   "execution_count": null,
   "metadata": {},
   "outputs": [],
   "source": [
    "def graph_bar2(df,name_category):\n",
    "    import plotly\n",
    "    import plotly.graph_objects as go\n",
    "\n",
    "    sort_tags=df.sort_values('Count',ascending=False)[:15]\n",
    "    \n",
    "    sort_tags.values.tolist()\n",
    "    list_=[]\n",
    "    \n",
    "    for l in sort_tags.values.tolist():\n",
    "        list_+=l\n",
    "        \n",
    "    data=[go.Bar(\n",
    "        x=sort_tags.index,\n",
    "        y=list_\n",
    "    )]\n",
    "    text_div=plotly.offline.plot(\n",
    "        {'data':data,'layout':go.Layout(xaxis_tickangle=-45, title=f'Top 15 de tags para la categoría {name_category}')},\n",
    "        include_plotlyjs=False, output_type='div'\n",
    "    )\n",
    "    return text_div"
   ]
  },
  {
   "cell_type": "code",
   "execution_count": 135,
   "metadata": {},
   "outputs": [],
   "source": [
    "df_tags=data_manipulation(list_features,'Data Science / Analytics')"
   ]
  },
  {
   "cell_type": "code",
   "execution_count": 163,
   "metadata": {},
   "outputs": [],
   "source": [
    "sort_tags=df_tags.sort_values('Count',ascending=False)[:15]"
   ]
  },
  {
   "cell_type": "code",
   "execution_count": 166,
   "metadata": {},
   "outputs": [],
   "source": [
    "sort_tags.values.tolist()\n",
    "list_=[]\n",
    "for l in sort_tags.values.tolist():\n",
    "    list_+=l\n",
    "    "
   ]
  },
  {
   "cell_type": "code",
   "execution_count": 167,
   "metadata": {},
   "outputs": [
    {
     "data": {
      "text/plain": [
       "[428, 327, 304, 247, 247, 240, 169, 167, 165, 165, 165, 141, 114, 105, 102]"
      ]
     },
     "execution_count": 167,
     "metadata": {},
     "output_type": "execute_result"
    }
   ],
   "source": [
    "list_"
   ]
  },
  {
   "cell_type": "code",
   "execution_count": 168,
   "metadata": {},
   "outputs": [],
   "source": [
    "\n",
    "data=[go.Bar(\n",
    "    x=sort_tags.index,\n",
    "    y=list_\n",
    ")]\n",
    "text_div=plotly.offline.plot(\n",
    "    {'data':data,'layout':go.Layout(xaxis_tickangle=-45)},\n",
    "\n",
    ")"
   ]
  },
  {
   "cell_type": "code",
   "execution_count": null,
   "metadata": {},
   "outputs": [],
   "source": [
    "def clean(list_features):\n",
    "    for category in list_features:\n",
    "        dict_new[category['category']]+=[info['attributes']['name'] for info in category['tags']]"
   ]
  },
  {
   "cell_type": "code",
   "execution_count": null,
   "metadata": {},
   "outputs": [],
   "source": [
    "df.head()"
   ]
  },
  {
   "cell_type": "code",
   "execution_count": null,
   "metadata": {},
   "outputs": [],
   "source": [
    "def graph_bar(df,nombres_features='category'):\n",
    "    import pandas as pd \n",
    "    import plotly\n",
    "    import plotly.graph_objects as go\n",
    "\n",
    "    num_in_category=df[nombres_features].value_counts()[:10]\n",
    "    \n",
    "    data=[go.Bar(\n",
    "        x=num_in_category.index,\n",
    "        y=num_in_category.values\n",
    "    )]\n",
    "    text_div=plotly.offline.plot(\n",
    "        {'data':data,'layout':go.Layout(xaxis_tickangle=-45)},\n",
    "\n",
    "    )\n",
    "    return text_div"
   ]
  },
  {
   "cell_type": "code",
   "execution_count": 84,
   "metadata": {},
   "outputs": [],
   "source": [
    "def graph_pie(df,nombres_features='seniority'):\n",
    "    import plotly\n",
    "    import plotly.graph_objects as go\n",
    "\n",
    "    num_in_features=df[nombres_features].value_counts()[:10]\n",
    "    \n",
    "    data=[go.Pie(\n",
    "        labels = num_in_features.index,\n",
    "        values =num_in_features.values, textinfo='label+percent',\n",
    "                insidetextorientation='radial'\n",
    "    )]\n",
    "\n",
    "    text_div=plotly.offline.plot(\n",
    "        {'data':data}, include_plotlyjs=False, output_type='div'\n",
    "    )\n",
    "    return text_div"
   ]
  },
  {
   "cell_type": "code",
   "execution_count": 90,
   "metadata": {},
   "outputs": [],
   "source": [
    "def graph_pie2(df,name_category,nombres_features='seniority'):\n",
    "    import plotly\n",
    "    import plotly.graph_objects as go\n",
    "\n",
    "    num_in_features=df[nombres_features].value_counts()[:10]\n",
    "    elim=df['category'].value_counts()[-4:].index.tolist()\n",
    "    df_new=df[~df['category'].isin(elim)]\n",
    "    df_groupby=df_new.groupby(nombres_features).size()\n",
    "    count_seniority=df_groupby[name_category]\n",
    "    data=[go.Pie(\n",
    "        labels = count_seniority.index,\n",
    "        values =count_seniority.values, textinfo='label+percent',\n",
    "                insidetextorientation='radial'\n",
    "    )]\n",
    "\n",
    "    text_div=plotly.offline.plot(\n",
    "        {'data':data,'layout':go.Layout(title=f'Porcentaje de Seniority por {name_category}')},\n",
    "        include_plotlyjs=False, output_type='div'\n",
    "    )\n",
    "    return text_div"
   ]
  },
  {
   "cell_type": "code",
   "execution_count": 91,
   "metadata": {},
   "outputs": [
    {
     "data": {
      "text/plain": [
       "'temp-plot.html'"
      ]
     },
     "execution_count": 91,
     "metadata": {},
     "output_type": "execute_result"
    }
   ],
   "source": [
    "graph_pie2(df,'Programming',['category','seniority'])"
   ]
  },
  {
   "cell_type": "code",
   "execution_count": null,
   "metadata": {},
   "outputs": [],
   "source": [
    "df=pd.DataFrame(list_features)[['category']]"
   ]
  },
  {
   "cell_type": "code",
   "execution_count": null,
   "metadata": {},
   "outputs": [],
   "source": [
    "df.head()"
   ]
  },
  {
   "cell_type": "code",
   "execution_count": null,
   "metadata": {},
   "outputs": [],
   "source": [
    "num_in_category=df['category'].value_counts()[:10]\n",
    "num_in_category"
   ]
  },
  {
   "cell_type": "code",
   "execution_count": null,
   "metadata": {},
   "outputs": [],
   "source": [
    "data=[go.Bar(\n",
    "    x=num_in_category.index,\n",
    "    y=num_in_category.values\n",
    ")]\n",
    "\n",
    "fig = go.Figure(data)\n",
    "fig.show()"
   ]
  },
  {
   "cell_type": "code",
   "execution_count": null,
   "metadata": {},
   "outputs": [],
   "source": [
    "text_div=plotly.offline.plot(\n",
    "    {'data':data,'layout':go.Layout(xaxis_tickangle=-45)},\n",
    "\n",
    ")"
   ]
  },
  {
   "cell_type": "code",
   "execution_count": null,
   "metadata": {},
   "outputs": [],
   "source": [
    "df=pd.DataFrame(list_features)[['category','seniority']]\n",
    "df.head()"
   ]
  },
  {
   "cell_type": "code",
   "execution_count": null,
   "metadata": {},
   "outputs": [],
   "source": [
    "seniority_count=df['seniority'].value_counts()"
   ]
  },
  {
   "cell_type": "code",
   "execution_count": null,
   "metadata": {},
   "outputs": [],
   "source": [
    "labels = seniority_count.index\n",
    "values = seniority_count.values\n",
    "fig = go.Figure(data=[go.Pie(labels=labels, values=values, textinfo='label+percent',\n",
    "                             insidetextorientation='radial'\n",
    "                            )])\n",
    "fig.show()"
   ]
  },
  {
   "cell_type": "code",
   "execution_count": null,
   "metadata": {},
   "outputs": [],
   "source": [
    "data=[go.Pie(\n",
    "    labels = seniority_count.index,\n",
    "    values = seniority_count.values, textinfo='label+percent',\n",
    "            insidetextorientation='radial'\n",
    ")]\n",
    "\n",
    "text_div=plotly.offline.plot(\n",
    "    {'data':data}, include_plotlyjs=False, output_type='div'\n",
    ")"
   ]
  },
  {
   "cell_type": "code",
   "execution_count": null,
   "metadata": {},
   "outputs": [],
   "source": [
    "import plotly.graph_objects as go\n",
    "\n",
    "labels = ['Oxygen','Hydrogen','Carbon_Dioxide','Nitrogen']\n",
    "values = [4500, 2500, 1053, 500]\n",
    "\n",
    "fig = go.Figure(data=[go.Pie(labels=labels, values=values, textinfo='label+percent',\n",
    "                             insidetextorientation='radial'\n",
    "                            )])\n",
    "fig.show()"
   ]
  },
  {
   "cell_type": "code",
   "execution_count": 93,
   "metadata": {},
   "outputs": [
    {
     "data": {
      "text/html": [
       "<div>\n",
       "<style scoped>\n",
       "    .dataframe tbody tr th:only-of-type {\n",
       "        vertical-align: middle;\n",
       "    }\n",
       "\n",
       "    .dataframe tbody tr th {\n",
       "        vertical-align: top;\n",
       "    }\n",
       "\n",
       "    .dataframe thead th {\n",
       "        text-align: right;\n",
       "    }\n",
       "</style>\n",
       "<table border=\"1\" class=\"dataframe\">\n",
       "  <thead>\n",
       "    <tr style=\"text-align: right;\">\n",
       "      <th></th>\n",
       "      <th>category</th>\n",
       "      <th>seniority</th>\n",
       "    </tr>\n",
       "  </thead>\n",
       "  <tbody>\n",
       "    <tr>\n",
       "      <th>0</th>\n",
       "      <td>Programming</td>\n",
       "      <td>Semi Senior</td>\n",
       "    </tr>\n",
       "    <tr>\n",
       "      <th>1</th>\n",
       "      <td>Operations / Admin</td>\n",
       "      <td>Semi Senior</td>\n",
       "    </tr>\n",
       "    <tr>\n",
       "      <th>2</th>\n",
       "      <td>Customer Support</td>\n",
       "      <td>Junior</td>\n",
       "    </tr>\n",
       "    <tr>\n",
       "      <th>3</th>\n",
       "      <td>SysAdmin / DevOps / QA</td>\n",
       "      <td>Semi Senior</td>\n",
       "    </tr>\n",
       "    <tr>\n",
       "      <th>4</th>\n",
       "      <td>Programming</td>\n",
       "      <td>Sin experiencia</td>\n",
       "    </tr>\n",
       "  </tbody>\n",
       "</table>\n",
       "</div>"
      ],
      "text/plain": [
       "                 category        seniority\n",
       "0             Programming      Semi Senior\n",
       "1      Operations / Admin      Semi Senior\n",
       "2        Customer Support           Junior\n",
       "3  SysAdmin / DevOps / QA      Semi Senior\n",
       "4             Programming  Sin experiencia"
      ]
     },
     "execution_count": 93,
     "metadata": {},
     "output_type": "execute_result"
    }
   ],
   "source": [
    "df=pd.DataFrame(list_features)[['category','seniority']]\n",
    "df.head()"
   ]
  },
  {
   "cell_type": "code",
   "execution_count": 128,
   "metadata": {},
   "outputs": [
    {
     "data": {
      "text/plain": [
       "Programming                     10462\n",
       "SysAdmin / DevOps / QA           2275\n",
       "Design / UX                      1380\n",
       "Mobile Development                987\n",
       "Product, Innovation & Agile       910\n",
       "Sales                             868\n",
       "Digital Marketing                 829\n",
       "Customer Support                  825\n",
       "Data Science / Analytics          722\n",
       "Operations / Admin                666\n",
       "Content, Advertising & Media      281\n",
       "Cybersecurity                     277\n",
       "People & HR                       246\n",
       "Machine Learning & AI              37\n",
       "Hardware / Electronics             32\n",
       "Name: category, dtype: int64"
      ]
     },
     "execution_count": 128,
     "metadata": {},
     "output_type": "execute_result"
    }
   ],
   "source": [
    "df['category'].value_counts()[-4]"
   ]
  },
  {
   "cell_type": "code",
   "execution_count": 94,
   "metadata": {},
   "outputs": [],
   "source": [
    "best5=df['category'].value_counts()[:5].index.tolist()"
   ]
  },
  {
   "cell_type": "code",
   "execution_count": 95,
   "metadata": {},
   "outputs": [],
   "source": [
    "df_new=df[df['category'].isin(best5)]"
   ]
  },
  {
   "cell_type": "code",
   "execution_count": 96,
   "metadata": {},
   "outputs": [
    {
     "data": {
      "text/html": [
       "<div>\n",
       "<style scoped>\n",
       "    .dataframe tbody tr th:only-of-type {\n",
       "        vertical-align: middle;\n",
       "    }\n",
       "\n",
       "    .dataframe tbody tr th {\n",
       "        vertical-align: top;\n",
       "    }\n",
       "\n",
       "    .dataframe thead th {\n",
       "        text-align: right;\n",
       "    }\n",
       "</style>\n",
       "<table border=\"1\" class=\"dataframe\">\n",
       "  <thead>\n",
       "    <tr style=\"text-align: right;\">\n",
       "      <th></th>\n",
       "      <th>category</th>\n",
       "      <th>seniority</th>\n",
       "    </tr>\n",
       "  </thead>\n",
       "  <tbody>\n",
       "    <tr>\n",
       "      <th>0</th>\n",
       "      <td>Programming</td>\n",
       "      <td>Semi Senior</td>\n",
       "    </tr>\n",
       "    <tr>\n",
       "      <th>3</th>\n",
       "      <td>SysAdmin / DevOps / QA</td>\n",
       "      <td>Semi Senior</td>\n",
       "    </tr>\n",
       "    <tr>\n",
       "      <th>4</th>\n",
       "      <td>Programming</td>\n",
       "      <td>Sin experiencia</td>\n",
       "    </tr>\n",
       "    <tr>\n",
       "      <th>5</th>\n",
       "      <td>Programming</td>\n",
       "      <td>Junior</td>\n",
       "    </tr>\n",
       "    <tr>\n",
       "      <th>6</th>\n",
       "      <td>Programming</td>\n",
       "      <td>Junior</td>\n",
       "    </tr>\n",
       "    <tr>\n",
       "      <th>...</th>\n",
       "      <td>...</td>\n",
       "      <td>...</td>\n",
       "    </tr>\n",
       "    <tr>\n",
       "      <th>20792</th>\n",
       "      <td>SysAdmin / DevOps / QA</td>\n",
       "      <td>Semi Senior</td>\n",
       "    </tr>\n",
       "    <tr>\n",
       "      <th>20793</th>\n",
       "      <td>Product, Innovation &amp; Agile</td>\n",
       "      <td>Semi Senior</td>\n",
       "    </tr>\n",
       "    <tr>\n",
       "      <th>20794</th>\n",
       "      <td>Programming</td>\n",
       "      <td>Junior</td>\n",
       "    </tr>\n",
       "    <tr>\n",
       "      <th>20795</th>\n",
       "      <td>Programming</td>\n",
       "      <td>Junior</td>\n",
       "    </tr>\n",
       "    <tr>\n",
       "      <th>20796</th>\n",
       "      <td>Programming</td>\n",
       "      <td>Senior</td>\n",
       "    </tr>\n",
       "  </tbody>\n",
       "</table>\n",
       "<p>16014 rows × 2 columns</p>\n",
       "</div>"
      ],
      "text/plain": [
       "                          category        seniority\n",
       "0                      Programming      Semi Senior\n",
       "3           SysAdmin / DevOps / QA      Semi Senior\n",
       "4                      Programming  Sin experiencia\n",
       "5                      Programming           Junior\n",
       "6                      Programming           Junior\n",
       "...                            ...              ...\n",
       "20792       SysAdmin / DevOps / QA      Semi Senior\n",
       "20793  Product, Innovation & Agile      Semi Senior\n",
       "20794                  Programming           Junior\n",
       "20795                  Programming           Junior\n",
       "20796                  Programming           Senior\n",
       "\n",
       "[16014 rows x 2 columns]"
      ]
     },
     "execution_count": 96,
     "metadata": {},
     "output_type": "execute_result"
    }
   ],
   "source": [
    "df_new"
   ]
  },
  {
   "cell_type": "code",
   "execution_count": 97,
   "metadata": {},
   "outputs": [
    {
     "data": {
      "text/plain": [
       "category                     seniority      \n",
       "Design / UX                  Junior              445\n",
       "                             Semi Senior         632\n",
       "                             Senior              266\n",
       "                             Sin experiencia      37\n",
       "Mobile Development           Junior              196\n",
       "                             Semi Senior         585\n",
       "                             Senior              206\n",
       "Product, Innovation & Agile  Expert               28\n",
       "                             Junior               81\n",
       "                             Semi Senior         648\n",
       "                             Senior              122\n",
       "                             Sin experiencia      31\n",
       "Programming                  Expert              109\n",
       "                             Junior             2377\n",
       "                             Semi Senior        4728\n",
       "                             Senior             2333\n",
       "                             Sin experiencia     915\n",
       "SysAdmin / DevOps / QA       Expert               27\n",
       "                             Junior              472\n",
       "                             Semi Senior        1167\n",
       "                             Senior              569\n",
       "                             Sin experiencia      40\n",
       "dtype: int64"
      ]
     },
     "execution_count": 97,
     "metadata": {},
     "output_type": "execute_result"
    }
   ],
   "source": [
    "c=df_new.groupby(['category','seniority']).size()\n",
    "c"
   ]
  },
  {
   "cell_type": "code",
   "execution_count": 103,
   "metadata": {},
   "outputs": [
    {
     "data": {
      "text/plain": [
       "array(['Programming', 'SysAdmin / DevOps / QA', 'Design / UX',\n",
       "       'Mobile Development', 'Product, Innovation & Agile'], dtype=object)"
      ]
     },
     "execution_count": 103,
     "metadata": {},
     "output_type": "execute_result"
    }
   ],
   "source": [
    "categories=df_new['category'].unique()\n",
    "categories"
   ]
  },
  {
   "cell_type": "code",
   "execution_count": 104,
   "metadata": {},
   "outputs": [
    {
     "data": {
      "text/plain": [
       "array(['Semi Senior', 'Sin experiencia', 'Junior', 'Senior', 'Expert'],\n",
       "      dtype=object)"
      ]
     },
     "execution_count": 104,
     "metadata": {},
     "output_type": "execute_result"
    }
   ],
   "source": [
    "seniority=df_new['seniority'].unique()\n",
    "seniority\n"
   ]
  },
  {
   "cell_type": "code",
   "execution_count": 117,
   "metadata": {},
   "outputs": [
    {
     "data": {
      "text/plain": [
       "seniority\n",
       "Expert              109\n",
       "Junior             2377\n",
       "Semi Senior        4728\n",
       "Senior             2333\n",
       "Sin experiencia     915\n",
       "dtype: int64"
      ]
     },
     "execution_count": 117,
     "metadata": {},
     "output_type": "execute_result"
    }
   ],
   "source": [
    "c['Programming']"
   ]
  },
  {
   "cell_type": "code",
   "execution_count": 109,
   "metadata": {},
   "outputs": [
    {
     "data": {
      "application/vnd.plotly.v1+json": {
       "config": {
        "plotlyServerURL": "https://plotly.com"
       },
       "data": [
        {
         "name": "Expert",
         "type": "bar",
         "x": [
          "Programming",
          "SysAdmin / DevOps / QA",
          "Design / UX",
          "Mobile Development",
          "Product, Innovation & Agile"
         ],
         "y": [
          109,
          2377,
          4728,
          2333,
          915
         ]
        },
        {
         "name": "Senior",
         "type": "bar",
         "x": [
          "Programming",
          "SysAdmin / DevOps / QA",
          "Design / UX",
          "Mobile Development",
          "Product, Innovation & Agile"
         ],
         "y": [
          109,
          2377,
          4728,
          2333,
          915
         ]
        },
        {
         "name": "Semi Senior",
         "type": "bar",
         "x": [
          "Programming",
          "SysAdmin / DevOps / QA",
          "Design / UX",
          "Mobile Development",
          "Product, Innovation & Agile"
         ],
         "y": [
          109,
          2377,
          4728,
          2333,
          915
         ]
        },
        {
         "name": "Junior",
         "type": "bar",
         "x": [
          "Programming",
          "SysAdmin / DevOps / QA",
          "Design / UX",
          "Mobile Development",
          "Product, Innovation & Agile"
         ],
         "y": [
          109,
          2377,
          4728,
          2333,
          915
         ]
        },
        {
         "name": "Junior",
         "type": "bar",
         "x": [
          "Programming",
          "SysAdmin / DevOps / QA",
          "Design / UX",
          "Mobile Development",
          "Product, Innovation & Agile"
         ],
         "y": [
          109,
          2377,
          4728,
          2333,
          915
         ]
        }
       ],
       "layout": {
        "barmode": "group",
        "template": {
         "data": {
          "bar": [
           {
            "error_x": {
             "color": "#2a3f5f"
            },
            "error_y": {
             "color": "#2a3f5f"
            },
            "marker": {
             "line": {
              "color": "#E5ECF6",
              "width": 0.5
             }
            },
            "type": "bar"
           }
          ],
          "barpolar": [
           {
            "marker": {
             "line": {
              "color": "#E5ECF6",
              "width": 0.5
             }
            },
            "type": "barpolar"
           }
          ],
          "carpet": [
           {
            "aaxis": {
             "endlinecolor": "#2a3f5f",
             "gridcolor": "white",
             "linecolor": "white",
             "minorgridcolor": "white",
             "startlinecolor": "#2a3f5f"
            },
            "baxis": {
             "endlinecolor": "#2a3f5f",
             "gridcolor": "white",
             "linecolor": "white",
             "minorgridcolor": "white",
             "startlinecolor": "#2a3f5f"
            },
            "type": "carpet"
           }
          ],
          "choropleth": [
           {
            "colorbar": {
             "outlinewidth": 0,
             "ticks": ""
            },
            "type": "choropleth"
           }
          ],
          "contour": [
           {
            "colorbar": {
             "outlinewidth": 0,
             "ticks": ""
            },
            "colorscale": [
             [
              0,
              "#0d0887"
             ],
             [
              0.1111111111111111,
              "#46039f"
             ],
             [
              0.2222222222222222,
              "#7201a8"
             ],
             [
              0.3333333333333333,
              "#9c179e"
             ],
             [
              0.4444444444444444,
              "#bd3786"
             ],
             [
              0.5555555555555556,
              "#d8576b"
             ],
             [
              0.6666666666666666,
              "#ed7953"
             ],
             [
              0.7777777777777778,
              "#fb9f3a"
             ],
             [
              0.8888888888888888,
              "#fdca26"
             ],
             [
              1,
              "#f0f921"
             ]
            ],
            "type": "contour"
           }
          ],
          "contourcarpet": [
           {
            "colorbar": {
             "outlinewidth": 0,
             "ticks": ""
            },
            "type": "contourcarpet"
           }
          ],
          "heatmap": [
           {
            "colorbar": {
             "outlinewidth": 0,
             "ticks": ""
            },
            "colorscale": [
             [
              0,
              "#0d0887"
             ],
             [
              0.1111111111111111,
              "#46039f"
             ],
             [
              0.2222222222222222,
              "#7201a8"
             ],
             [
              0.3333333333333333,
              "#9c179e"
             ],
             [
              0.4444444444444444,
              "#bd3786"
             ],
             [
              0.5555555555555556,
              "#d8576b"
             ],
             [
              0.6666666666666666,
              "#ed7953"
             ],
             [
              0.7777777777777778,
              "#fb9f3a"
             ],
             [
              0.8888888888888888,
              "#fdca26"
             ],
             [
              1,
              "#f0f921"
             ]
            ],
            "type": "heatmap"
           }
          ],
          "heatmapgl": [
           {
            "colorbar": {
             "outlinewidth": 0,
             "ticks": ""
            },
            "colorscale": [
             [
              0,
              "#0d0887"
             ],
             [
              0.1111111111111111,
              "#46039f"
             ],
             [
              0.2222222222222222,
              "#7201a8"
             ],
             [
              0.3333333333333333,
              "#9c179e"
             ],
             [
              0.4444444444444444,
              "#bd3786"
             ],
             [
              0.5555555555555556,
              "#d8576b"
             ],
             [
              0.6666666666666666,
              "#ed7953"
             ],
             [
              0.7777777777777778,
              "#fb9f3a"
             ],
             [
              0.8888888888888888,
              "#fdca26"
             ],
             [
              1,
              "#f0f921"
             ]
            ],
            "type": "heatmapgl"
           }
          ],
          "histogram": [
           {
            "marker": {
             "colorbar": {
              "outlinewidth": 0,
              "ticks": ""
             }
            },
            "type": "histogram"
           }
          ],
          "histogram2d": [
           {
            "colorbar": {
             "outlinewidth": 0,
             "ticks": ""
            },
            "colorscale": [
             [
              0,
              "#0d0887"
             ],
             [
              0.1111111111111111,
              "#46039f"
             ],
             [
              0.2222222222222222,
              "#7201a8"
             ],
             [
              0.3333333333333333,
              "#9c179e"
             ],
             [
              0.4444444444444444,
              "#bd3786"
             ],
             [
              0.5555555555555556,
              "#d8576b"
             ],
             [
              0.6666666666666666,
              "#ed7953"
             ],
             [
              0.7777777777777778,
              "#fb9f3a"
             ],
             [
              0.8888888888888888,
              "#fdca26"
             ],
             [
              1,
              "#f0f921"
             ]
            ],
            "type": "histogram2d"
           }
          ],
          "histogram2dcontour": [
           {
            "colorbar": {
             "outlinewidth": 0,
             "ticks": ""
            },
            "colorscale": [
             [
              0,
              "#0d0887"
             ],
             [
              0.1111111111111111,
              "#46039f"
             ],
             [
              0.2222222222222222,
              "#7201a8"
             ],
             [
              0.3333333333333333,
              "#9c179e"
             ],
             [
              0.4444444444444444,
              "#bd3786"
             ],
             [
              0.5555555555555556,
              "#d8576b"
             ],
             [
              0.6666666666666666,
              "#ed7953"
             ],
             [
              0.7777777777777778,
              "#fb9f3a"
             ],
             [
              0.8888888888888888,
              "#fdca26"
             ],
             [
              1,
              "#f0f921"
             ]
            ],
            "type": "histogram2dcontour"
           }
          ],
          "mesh3d": [
           {
            "colorbar": {
             "outlinewidth": 0,
             "ticks": ""
            },
            "type": "mesh3d"
           }
          ],
          "parcoords": [
           {
            "line": {
             "colorbar": {
              "outlinewidth": 0,
              "ticks": ""
             }
            },
            "type": "parcoords"
           }
          ],
          "pie": [
           {
            "automargin": true,
            "type": "pie"
           }
          ],
          "scatter": [
           {
            "marker": {
             "colorbar": {
              "outlinewidth": 0,
              "ticks": ""
             }
            },
            "type": "scatter"
           }
          ],
          "scatter3d": [
           {
            "line": {
             "colorbar": {
              "outlinewidth": 0,
              "ticks": ""
             }
            },
            "marker": {
             "colorbar": {
              "outlinewidth": 0,
              "ticks": ""
             }
            },
            "type": "scatter3d"
           }
          ],
          "scattercarpet": [
           {
            "marker": {
             "colorbar": {
              "outlinewidth": 0,
              "ticks": ""
             }
            },
            "type": "scattercarpet"
           }
          ],
          "scattergeo": [
           {
            "marker": {
             "colorbar": {
              "outlinewidth": 0,
              "ticks": ""
             }
            },
            "type": "scattergeo"
           }
          ],
          "scattergl": [
           {
            "marker": {
             "colorbar": {
              "outlinewidth": 0,
              "ticks": ""
             }
            },
            "type": "scattergl"
           }
          ],
          "scattermapbox": [
           {
            "marker": {
             "colorbar": {
              "outlinewidth": 0,
              "ticks": ""
             }
            },
            "type": "scattermapbox"
           }
          ],
          "scatterpolar": [
           {
            "marker": {
             "colorbar": {
              "outlinewidth": 0,
              "ticks": ""
             }
            },
            "type": "scatterpolar"
           }
          ],
          "scatterpolargl": [
           {
            "marker": {
             "colorbar": {
              "outlinewidth": 0,
              "ticks": ""
             }
            },
            "type": "scatterpolargl"
           }
          ],
          "scatterternary": [
           {
            "marker": {
             "colorbar": {
              "outlinewidth": 0,
              "ticks": ""
             }
            },
            "type": "scatterternary"
           }
          ],
          "surface": [
           {
            "colorbar": {
             "outlinewidth": 0,
             "ticks": ""
            },
            "colorscale": [
             [
              0,
              "#0d0887"
             ],
             [
              0.1111111111111111,
              "#46039f"
             ],
             [
              0.2222222222222222,
              "#7201a8"
             ],
             [
              0.3333333333333333,
              "#9c179e"
             ],
             [
              0.4444444444444444,
              "#bd3786"
             ],
             [
              0.5555555555555556,
              "#d8576b"
             ],
             [
              0.6666666666666666,
              "#ed7953"
             ],
             [
              0.7777777777777778,
              "#fb9f3a"
             ],
             [
              0.8888888888888888,
              "#fdca26"
             ],
             [
              1,
              "#f0f921"
             ]
            ],
            "type": "surface"
           }
          ],
          "table": [
           {
            "cells": {
             "fill": {
              "color": "#EBF0F8"
             },
             "line": {
              "color": "white"
             }
            },
            "header": {
             "fill": {
              "color": "#C8D4E3"
             },
             "line": {
              "color": "white"
             }
            },
            "type": "table"
           }
          ]
         },
         "layout": {
          "annotationdefaults": {
           "arrowcolor": "#2a3f5f",
           "arrowhead": 0,
           "arrowwidth": 1
          },
          "coloraxis": {
           "colorbar": {
            "outlinewidth": 0,
            "ticks": ""
           }
          },
          "colorscale": {
           "diverging": [
            [
             0,
             "#8e0152"
            ],
            [
             0.1,
             "#c51b7d"
            ],
            [
             0.2,
             "#de77ae"
            ],
            [
             0.3,
             "#f1b6da"
            ],
            [
             0.4,
             "#fde0ef"
            ],
            [
             0.5,
             "#f7f7f7"
            ],
            [
             0.6,
             "#e6f5d0"
            ],
            [
             0.7,
             "#b8e186"
            ],
            [
             0.8,
             "#7fbc41"
            ],
            [
             0.9,
             "#4d9221"
            ],
            [
             1,
             "#276419"
            ]
           ],
           "sequential": [
            [
             0,
             "#0d0887"
            ],
            [
             0.1111111111111111,
             "#46039f"
            ],
            [
             0.2222222222222222,
             "#7201a8"
            ],
            [
             0.3333333333333333,
             "#9c179e"
            ],
            [
             0.4444444444444444,
             "#bd3786"
            ],
            [
             0.5555555555555556,
             "#d8576b"
            ],
            [
             0.6666666666666666,
             "#ed7953"
            ],
            [
             0.7777777777777778,
             "#fb9f3a"
            ],
            [
             0.8888888888888888,
             "#fdca26"
            ],
            [
             1,
             "#f0f921"
            ]
           ],
           "sequentialminus": [
            [
             0,
             "#0d0887"
            ],
            [
             0.1111111111111111,
             "#46039f"
            ],
            [
             0.2222222222222222,
             "#7201a8"
            ],
            [
             0.3333333333333333,
             "#9c179e"
            ],
            [
             0.4444444444444444,
             "#bd3786"
            ],
            [
             0.5555555555555556,
             "#d8576b"
            ],
            [
             0.6666666666666666,
             "#ed7953"
            ],
            [
             0.7777777777777778,
             "#fb9f3a"
            ],
            [
             0.8888888888888888,
             "#fdca26"
            ],
            [
             1,
             "#f0f921"
            ]
           ]
          },
          "colorway": [
           "#636efa",
           "#EF553B",
           "#00cc96",
           "#ab63fa",
           "#FFA15A",
           "#19d3f3",
           "#FF6692",
           "#B6E880",
           "#FF97FF",
           "#FECB52"
          ],
          "font": {
           "color": "#2a3f5f"
          },
          "geo": {
           "bgcolor": "white",
           "lakecolor": "white",
           "landcolor": "#E5ECF6",
           "showlakes": true,
           "showland": true,
           "subunitcolor": "white"
          },
          "hoverlabel": {
           "align": "left"
          },
          "hovermode": "closest",
          "mapbox": {
           "style": "light"
          },
          "paper_bgcolor": "white",
          "plot_bgcolor": "#E5ECF6",
          "polar": {
           "angularaxis": {
            "gridcolor": "white",
            "linecolor": "white",
            "ticks": ""
           },
           "bgcolor": "#E5ECF6",
           "radialaxis": {
            "gridcolor": "white",
            "linecolor": "white",
            "ticks": ""
           }
          },
          "scene": {
           "xaxis": {
            "backgroundcolor": "#E5ECF6",
            "gridcolor": "white",
            "gridwidth": 2,
            "linecolor": "white",
            "showbackground": true,
            "ticks": "",
            "zerolinecolor": "white"
           },
           "yaxis": {
            "backgroundcolor": "#E5ECF6",
            "gridcolor": "white",
            "gridwidth": 2,
            "linecolor": "white",
            "showbackground": true,
            "ticks": "",
            "zerolinecolor": "white"
           },
           "zaxis": {
            "backgroundcolor": "#E5ECF6",
            "gridcolor": "white",
            "gridwidth": 2,
            "linecolor": "white",
            "showbackground": true,
            "ticks": "",
            "zerolinecolor": "white"
           }
          },
          "shapedefaults": {
           "line": {
            "color": "#2a3f5f"
           }
          },
          "ternary": {
           "aaxis": {
            "gridcolor": "white",
            "linecolor": "white",
            "ticks": ""
           },
           "baxis": {
            "gridcolor": "white",
            "linecolor": "white",
            "ticks": ""
           },
           "bgcolor": "#E5ECF6",
           "caxis": {
            "gridcolor": "white",
            "linecolor": "white",
            "ticks": ""
           }
          },
          "title": {
           "x": 0.05
          },
          "xaxis": {
           "automargin": true,
           "gridcolor": "white",
           "linecolor": "white",
           "ticks": "",
           "title": {
            "standoff": 15
           },
           "zerolinecolor": "white",
           "zerolinewidth": 2
          },
          "yaxis": {
           "automargin": true,
           "gridcolor": "white",
           "linecolor": "white",
           "ticks": "",
           "title": {
            "standoff": 15
           },
           "zerolinecolor": "white",
           "zerolinewidth": 2
          }
         }
        }
       }
      }
     },
     "metadata": {},
     "output_type": "display_data"
    }
   ],
   "source": [
    "import plotly.graph_objects as go\n",
    "animals=['giraffes', 'orangutans', 'monkeys']\n",
    "\n",
    "fig = go.Figure(data=[\n",
    "    go.Bar(name='Expert', x=categories, y=c[categories[0]].values),\n",
    "    go.Bar(name='Senior', x=categories, y=c[categories[0]].values),\n",
    "    go.Bar(name='Semi Senior', x=categories, y=c[categories[0]].values),\n",
    "    go.Bar(name='Junior', x=categories, y=c[categories[0]].values),\n",
    "    go.Bar(name='Junior', x=categories, y=c[categories[0]].values)\n",
    "])\n",
    "# Change the bar mode\n",
    "fig.update_layout(barmode='group')\n",
    "fig.show()"
   ]
  },
  {
   "cell_type": "code",
   "execution_count": null,
   "metadata": {},
   "outputs": [],
   "source": [
    "df.value_counts()"
   ]
  },
  {
   "cell_type": "code",
   "execution_count": null,
   "metadata": {},
   "outputs": [],
   "source": []
  },
  {
   "cell_type": "code",
   "execution_count": null,
   "metadata": {},
   "outputs": [],
   "source": []
  }
 ],
 "metadata": {
  "interpreter": {
   "hash": "9ce43836c8d3287a06e199a1efd6974587c1d8c7cdf961feda0708cd09e2869c"
  },
  "kernelspec": {
   "display_name": "Python 3.8.5 64-bit",
   "language": "python",
   "name": "python3"
  },
  "language_info": {
   "codemirror_mode": {
    "name": "ipython",
    "version": 3
   },
   "file_extension": ".py",
   "mimetype": "text/x-python",
   "name": "python",
   "nbconvert_exporter": "python",
   "pygments_lexer": "ipython3",
   "version": "3.8.5"
  },
  "orig_nbformat": 4
 },
 "nbformat": 4,
 "nbformat_minor": 2
}
